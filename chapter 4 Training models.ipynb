{
 "cells": [
  {
   "cell_type": "code",
   "execution_count": 168,
   "id": "59e4e9ab",
   "metadata": {},
   "outputs": [],
   "source": [
    "import  numpy as np\n",
    "import matplotlib.pyplot as plt\n",
    "from sklearn.preprocessing import add_dummy_feature\n",
    "from sklearn.linear_model import SGDRegressor,LinearRegression\n",
    "from sklearn.preprocessing import PolynomialFeatures\n",
    "from sklearn.model_selection import learning_curve\n",
    "from sklearn.pipeline import make_pipeline"
   ]
  },
  {
   "cell_type": "code",
   "execution_count": 6,
   "id": "075e3a28",
   "metadata": {},
   "outputs": [],
   "source": [
    "m=100 #NO of instances\n",
    "x=2*np.random.rand(m,1)\n",
    "y=4+3*x+np.random.randn(m,1)"
   ]
  },
  {
   "cell_type": "code",
   "execution_count": 53,
   "id": "44ddff72",
   "metadata": {},
   "outputs": [
    {
     "data": {
      "text/plain": [
       "array([[0.24520115],\n",
       "       [0.45931946],\n",
       "       [1.66995284],\n",
       "       [1.99470221],\n",
       "       [1.96633863],\n",
       "       [1.12266245],\n",
       "       [0.13491114],\n",
       "       [1.1671683 ],\n",
       "       [1.60050774],\n",
       "       [0.58177366],\n",
       "       [0.660867  ],\n",
       "       [1.5671935 ],\n",
       "       [1.18088495],\n",
       "       [1.12918677],\n",
       "       [0.21205242],\n",
       "       [0.34157597],\n",
       "       [0.61017915],\n",
       "       [0.94725827],\n",
       "       [0.41976466],\n",
       "       [0.51458175],\n",
       "       [0.93922788],\n",
       "       [1.61840953],\n",
       "       [0.82036086],\n",
       "       [1.0026929 ],\n",
       "       [0.17420139],\n",
       "       [1.15066521],\n",
       "       [0.08379796],\n",
       "       [1.84137078],\n",
       "       [0.78679291],\n",
       "       [1.85121719],\n",
       "       [0.44644162],\n",
       "       [0.88681869],\n",
       "       [0.89076072],\n",
       "       [0.8881029 ],\n",
       "       [1.0500757 ],\n",
       "       [1.82674574],\n",
       "       [1.03709888],\n",
       "       [0.959526  ],\n",
       "       [0.01751078],\n",
       "       [0.56453828],\n",
       "       [1.95611372],\n",
       "       [0.44259355],\n",
       "       [1.68311547],\n",
       "       [0.81718884],\n",
       "       [0.88427755],\n",
       "       [0.1341068 ],\n",
       "       [1.97747778],\n",
       "       [1.77146563],\n",
       "       [0.92877156],\n",
       "       [0.97842321],\n",
       "       [1.97366606],\n",
       "       [1.29122477],\n",
       "       [1.4788764 ],\n",
       "       [0.06820082],\n",
       "       [1.00282315],\n",
       "       [0.01307306],\n",
       "       [1.96380254],\n",
       "       [0.03915007],\n",
       "       [0.84043972],\n",
       "       [0.46973264],\n",
       "       [0.59697355],\n",
       "       [1.16689548],\n",
       "       [1.3595158 ],\n",
       "       [0.93618573],\n",
       "       [0.92683477],\n",
       "       [0.73247642],\n",
       "       [1.93817728],\n",
       "       [0.26481116],\n",
       "       [0.59478902],\n",
       "       [1.17809339],\n",
       "       [1.46669472],\n",
       "       [0.84818901],\n",
       "       [1.34103945],\n",
       "       [1.21550918],\n",
       "       [1.67717867],\n",
       "       [0.29320356],\n",
       "       [0.911483  ],\n",
       "       [0.49996687],\n",
       "       [0.78554431],\n",
       "       [0.62195875],\n",
       "       [0.50862071],\n",
       "       [1.44466123],\n",
       "       [1.24846698],\n",
       "       [0.31438792],\n",
       "       [1.53498113],\n",
       "       [1.8041695 ],\n",
       "       [0.99182426],\n",
       "       [0.63045314],\n",
       "       [0.73232757],\n",
       "       [1.84659795],\n",
       "       [0.57154562],\n",
       "       [1.10685667],\n",
       "       [1.29067271],\n",
       "       [0.39595635],\n",
       "       [1.20623435],\n",
       "       [1.50530006],\n",
       "       [1.50002317],\n",
       "       [1.21079136],\n",
       "       [1.73471029],\n",
       "       [0.06071194]])"
      ]
     },
     "execution_count": 53,
     "metadata": {},
     "output_type": "execute_result"
    }
   ],
   "source": [
    "x"
   ]
  },
  {
   "cell_type": "code",
   "execution_count": 54,
   "id": "adacf046",
   "metadata": {},
   "outputs": [
    {
     "data": {
      "text/plain": [
       "array([[ 5.22447571],\n",
       "       [ 4.86408644],\n",
       "       [10.44515071],\n",
       "       [ 9.25654098],\n",
       "       [10.75964907],\n",
       "       [ 7.00247728],\n",
       "       [ 3.7399277 ],\n",
       "       [ 7.97876709],\n",
       "       [ 7.6543708 ],\n",
       "       [ 6.03786536],\n",
       "       [ 5.29134879],\n",
       "       [ 8.25655661],\n",
       "       [ 6.51486114],\n",
       "       [ 7.54000725],\n",
       "       [ 4.5992973 ],\n",
       "       [ 4.46489669],\n",
       "       [ 6.60256905],\n",
       "       [ 7.26917484],\n",
       "       [ 5.66429642],\n",
       "       [ 5.70809181],\n",
       "       [ 6.47139791],\n",
       "       [10.89062456],\n",
       "       [ 8.43790274],\n",
       "       [ 6.54787478],\n",
       "       [ 4.34635302],\n",
       "       [ 8.1358221 ],\n",
       "       [ 3.85154415],\n",
       "       [ 7.52629511],\n",
       "       [ 6.20084248],\n",
       "       [10.45474477],\n",
       "       [ 4.41411354],\n",
       "       [ 5.69575508],\n",
       "       [ 5.6166369 ],\n",
       "       [ 5.19873498],\n",
       "       [ 8.72228389],\n",
       "       [ 9.51150666],\n",
       "       [ 5.71674811],\n",
       "       [ 6.10879784],\n",
       "       [ 4.52452799],\n",
       "       [ 5.48955008],\n",
       "       [11.02271137],\n",
       "       [ 5.35656621],\n",
       "       [ 7.77066209],\n",
       "       [ 6.04328583],\n",
       "       [ 6.03915251],\n",
       "       [ 3.66272589],\n",
       "       [10.84175295],\n",
       "       [ 8.83696304],\n",
       "       [ 5.55435392],\n",
       "       [ 7.06686618],\n",
       "       [ 8.30892581],\n",
       "       [ 7.72992117],\n",
       "       [ 8.58720483],\n",
       "       [ 4.64190966],\n",
       "       [ 6.39573798],\n",
       "       [ 4.16705077],\n",
       "       [10.39564717],\n",
       "       [ 3.53543149],\n",
       "       [ 5.51490612],\n",
       "       [ 5.67096808],\n",
       "       [ 6.15639922],\n",
       "       [ 8.21446597],\n",
       "       [ 7.56923062],\n",
       "       [ 6.5915961 ],\n",
       "       [ 6.23502128],\n",
       "       [ 6.16906733],\n",
       "       [ 8.9896143 ],\n",
       "       [ 5.21539016],\n",
       "       [ 6.41980774],\n",
       "       [ 7.58962706],\n",
       "       [ 9.95110619],\n",
       "       [ 6.06068291],\n",
       "       [ 7.41971069],\n",
       "       [ 8.56512111],\n",
       "       [ 8.57549611],\n",
       "       [ 5.19044979],\n",
       "       [ 7.82665966],\n",
       "       [ 6.85569806],\n",
       "       [ 6.81466558],\n",
       "       [ 8.10475033],\n",
       "       [ 7.08222539],\n",
       "       [ 8.46527219],\n",
       "       [ 8.74018089],\n",
       "       [ 5.13706785],\n",
       "       [ 8.57966803],\n",
       "       [10.41064281],\n",
       "       [ 8.15704398],\n",
       "       [ 3.7187258 ],\n",
       "       [ 4.57700536],\n",
       "       [ 9.40861507],\n",
       "       [ 6.23886133],\n",
       "       [ 6.4880152 ],\n",
       "       [ 6.60509592],\n",
       "       [ 4.9292052 ],\n",
       "       [ 8.39890147],\n",
       "       [ 9.64204126],\n",
       "       [ 8.4182563 ],\n",
       "       [ 6.84456183],\n",
       "       [ 8.09155878],\n",
       "       [ 3.58631363]])"
      ]
     },
     "execution_count": 54,
     "metadata": {},
     "output_type": "execute_result"
    }
   ],
   "source": [
    "y"
   ]
  },
  {
   "cell_type": "code",
   "execution_count": 28,
   "id": "512faadd",
   "metadata": {},
   "outputs": [
    {
     "data": {
      "image/png": "[encoded data removed]",
      "text/plain": [
       "<Figure size 640x480 with 1 Axes>"
      ]
     },
     "metadata": {},
     "output_type": "display_data"
    }
   ],
   "source": [
    "plt.scatter(x,y,c='r')\n",
    "plt.xlabel('x')\n",
    "plt.ylabel('y')\n",
    "plt.show()"
   ]
  },
  {
   "cell_type": "code",
   "execution_count": 30,
   "id": "e5671907",
   "metadata": {},
   "outputs": [],
   "source": [
    "x_b=add_dummy_feature(x)"
   ]
  },
  {
   "cell_type": "code",
   "execution_count": 31,
   "id": "3ce8a6f3",
   "metadata": {},
   "outputs": [
    {
     "data": {
      "text/plain": [
       "array([[1.        , 0.24520115],\n",
       "       [1.        , 0.45931946],\n",
       "       [1.        , 1.66995284],\n",
       "       [1.        , 1.99470221],\n",
       "       [1.        , 1.96633863],\n",
       "       [1.        , 1.12266245],\n",
       "       [1.        , 0.13491114],\n",
       "       [1.        , 1.1671683 ],\n",
       "       [1.        , 1.60050774],\n",
       "       [1.        , 0.58177366],\n",
       "       [1.        , 0.660867  ],\n",
       "       [1.        , 1.5671935 ],\n",
       "       [1.        , 1.18088495],\n",
       "       [1.        , 1.12918677],\n",
       "       [1.        , 0.21205242],\n",
       "       [1.        , 0.34157597],\n",
       "       [1.        , 0.61017915],\n",
       "       [1.        , 0.94725827],\n",
       "       [1.        , 0.41976466],\n",
       "       [1.        , 0.51458175],\n",
       "       [1.        , 0.93922788],\n",
       "       [1.        , 1.61840953],\n",
       "       [1.        , 0.82036086],\n",
       "       [1.        , 1.0026929 ],\n",
       "       [1.        , 0.17420139],\n",
       "       [1.        , 1.15066521],\n",
       "       [1.        , 0.08379796],\n",
       "       [1.        , 1.84137078],\n",
       "       [1.        , 0.78679291],\n",
       "       [1.        , 1.85121719],\n",
       "       [1.        , 0.44644162],\n",
       "       [1.        , 0.88681869],\n",
       "       [1.        , 0.89076072],\n",
       "       [1.        , 0.8881029 ],\n",
       "       [1.        , 1.0500757 ],\n",
       "       [1.        , 1.82674574],\n",
       "       [1.        , 1.03709888],\n",
       "       [1.        , 0.959526  ],\n",
       "       [1.        , 0.01751078],\n",
       "       [1.        , 0.56453828],\n",
       "       [1.        , 1.95611372],\n",
       "       [1.        , 0.44259355],\n",
       "       [1.        , 1.68311547],\n",
       "       [1.        , 0.81718884],\n",
       "       [1.        , 0.88427755],\n",
       "       [1.        , 0.1341068 ],\n",
       "       [1.        , 1.97747778],\n",
       "       [1.        , 1.77146563],\n",
       "       [1.        , 0.92877156],\n",
       "       [1.        , 0.97842321],\n",
       "       [1.        , 1.97366606],\n",
       "       [1.        , 1.29122477],\n",
       "       [1.        , 1.4788764 ],\n",
       "       [1.        , 0.06820082],\n",
       "       [1.        , 1.00282315],\n",
       "       [1.        , 0.01307306],\n",
       "       [1.        , 1.96380254],\n",
       "       [1.        , 0.03915007],\n",
       "       [1.        , 0.84043972],\n",
       "       [1.        , 0.46973264],\n",
       "       [1.        , 0.59697355],\n",
       "       [1.        , 1.16689548],\n",
       "       [1.        , 1.3595158 ],\n",
       "       [1.        , 0.93618573],\n",
       "       [1.        , 0.92683477],\n",
       "       [1.        , 0.73247642],\n",
       "       [1.        , 1.93817728],\n",
       "       [1.        , 0.26481116],\n",
       "       [1.        , 0.59478902],\n",
       "       [1.        , 1.17809339],\n",
       "       [1.        , 1.46669472],\n",
       "       [1.        , 0.84818901],\n",
       "       [1.        , 1.34103945],\n",
       "       [1.        , 1.21550918],\n",
       "       [1.        , 1.67717867],\n",
       "       [1.        , 0.29320356],\n",
       "       [1.        , 0.911483  ],\n",
       "       [1.        , 0.49996687],\n",
       "       [1.        , 0.78554431],\n",
       "       [1.        , 0.62195875],\n",
       "       [1.        , 0.50862071],\n",
       "       [1.        , 1.44466123],\n",
       "       [1.        , 1.24846698],\n",
       "       [1.        , 0.31438792],\n",
       "       [1.        , 1.53498113],\n",
       "       [1.        , 1.8041695 ],\n",
       "       [1.        , 0.99182426],\n",
       "       [1.        , 0.63045314],\n",
       "       [1.        , 0.73232757],\n",
       "       [1.        , 1.84659795],\n",
       "       [1.        , 0.57154562],\n",
       "       [1.        , 1.10685667],\n",
       "       [1.        , 1.29067271],\n",
       "       [1.        , 0.39595635],\n",
       "       [1.        , 1.20623435],\n",
       "       [1.        , 1.50530006],\n",
       "       [1.        , 1.50002317],\n",
       "       [1.        , 1.21079136],\n",
       "       [1.        , 1.73471029],\n",
       "       [1.        , 0.06071194]])"
      ]
     },
     "execution_count": 31,
     "metadata": {},
     "output_type": "execute_result"
    }
   ],
   "source": [
    "x_b"
   ]
  },
  {
   "cell_type": "code",
   "execution_count": 34,
   "id": "3c217d6b",
   "metadata": {},
   "outputs": [],
   "source": [
    "theta_best=(np.linalg.inv(x_b.T@x_b))@x_b.T@y"
   ]
  },
  {
   "cell_type": "code",
   "execution_count": 36,
   "id": "5015860d",
   "metadata": {},
   "outputs": [
    {
     "data": {
      "text/plain": [
       "array([[3.95737725],\n",
       "       [3.00968976]])"
      ]
     },
     "execution_count": 36,
     "metadata": {},
     "output_type": "execute_result"
    }
   ],
   "source": [
    "theta_best\n",
    "\n",
    "#intercept is 3.9... aprox 4 as intercept in y values, and slope aprox 3 as in same y"
   ]
  },
  {
   "cell_type": "code",
   "execution_count": 39,
   "id": "2e752b77",
   "metadata": {},
   "outputs": [],
   "source": [
    "x_new=np.array([[0],[2]])"
   ]
  },
  {
   "cell_type": "code",
   "execution_count": 40,
   "id": "acb79508",
   "metadata": {},
   "outputs": [
    {
     "data": {
      "text/plain": [
       "array([[0],\n",
       "       [2]])"
      ]
     },
     "execution_count": 40,
     "metadata": {},
     "output_type": "execute_result"
    }
   ],
   "source": [
    "x_new"
   ]
  },
  {
   "cell_type": "code",
   "execution_count": 49,
   "id": "65bef6c5",
   "metadata": {},
   "outputs": [
    {
     "data": {
      "image/png": "[encoded data removed]",
      "text/plain": [
       "<Figure size 640x480 with 1 Axes>"
      ]
     },
     "metadata": {},
     "output_type": "display_data"
    }
   ],
   "source": [
    "plt.scatter(x,y,c='r')\n",
    "plt.xlabel('x')\n",
    "plt.ylabel('y')\n",
    "plt.plot(x,theta_best[0][0]+theta_best[1][0]*x,'b--')\n",
    "plt.show()"
   ]
  },
  {
   "cell_type": "code",
   "execution_count": 129,
   "id": "258df8d9",
   "metadata": {},
   "outputs": [
    {
     "data": {
      "image/png": "[encoded data removed]",
      "text/plain": [
       "<Figure size 2000x800 with 1 Axes>"
      ]
     },
     "metadata": {},
     "output_type": "display_data"
    }
   ],
   "source": [
    "plt.figure(figsize=(20,8))\n",
    "plt.scatter(x,y,c='r')\n",
    "plt.xlabel('x')\n",
    "plt.ylabel('y')\n",
    "for i in [1]:\n",
    "    sgd_reg=SGDRegressor(max_iter=150,tol=1e-5,penalty=None,eta0=0.01,n_iter_no_change=5,random_state=42)\n",
    "    sgd_reg.fit(x,y.ravel())#ravel method returns 1D array and fit expects 1D arrary\n",
    "    plt.plot(x,sgd_reg.intercept_+sgd_reg.coef_*x,'b--')\n",
    "plt.show()"
   ]
  },
  {
   "cell_type": "code",
   "execution_count": 65,
   "id": "6a671afe",
   "metadata": {},
   "outputs": [
    {
     "data": {
      "text/plain": [
       "array([ 5.22447571,  4.86408644, 10.44515071,  9.25654098, 10.75964907,\n",
       "        7.00247728,  3.7399277 ,  7.97876709,  7.6543708 ,  6.03786536,\n",
       "        5.29134879,  8.25655661,  6.51486114,  7.54000725,  4.5992973 ,\n",
       "        4.46489669,  6.60256905,  7.26917484,  5.66429642,  5.70809181,\n",
       "        6.47139791, 10.89062456,  8.43790274,  6.54787478,  4.34635302,\n",
       "        8.1358221 ,  3.85154415,  7.52629511,  6.20084248, 10.45474477,\n",
       "        4.41411354,  5.69575508,  5.6166369 ,  5.19873498,  8.72228389,\n",
       "        9.51150666,  5.71674811,  6.10879784,  4.52452799,  5.48955008,\n",
       "       11.02271137,  5.35656621,  7.77066209,  6.04328583,  6.03915251,\n",
       "        3.66272589, 10.84175295,  8.83696304,  5.55435392,  7.06686618,\n",
       "        8.30892581,  7.72992117,  8.58720483,  4.64190966,  6.39573798,\n",
       "        4.16705077, 10.39564717,  3.53543149,  5.51490612,  5.67096808,\n",
       "        6.15639922,  8.21446597,  7.56923062,  6.5915961 ,  6.23502128,\n",
       "        6.16906733,  8.9896143 ,  5.21539016,  6.41980774,  7.58962706,\n",
       "        9.95110619,  6.06068291,  7.41971069,  8.56512111,  8.57549611,\n",
       "        5.19044979,  7.82665966,  6.85569806,  6.81466558,  8.10475033,\n",
       "        7.08222539,  8.46527219,  8.74018089,  5.13706785,  8.57966803,\n",
       "       10.41064281,  8.15704398,  3.7187258 ,  4.57700536,  9.40861507,\n",
       "        6.23886133,  6.4880152 ,  6.60509592,  4.9292052 ,  8.39890147,\n",
       "        9.64204126,  8.4182563 ,  6.84456183,  8.09155878,  3.58631363])"
      ]
     },
     "execution_count": 65,
     "metadata": {},
     "output_type": "execute_result"
    }
   ],
   "source": [
    "y.ravel()"
   ]
  },
  {
   "cell_type": "code",
   "execution_count": 100,
   "id": "3c8d2a91",
   "metadata": {},
   "outputs": [
    {
     "data": {
      "text/plain": [
       "(array([3.9472273]), array([3.01805795]))"
      ]
     },
     "execution_count": 100,
     "metadata": {},
     "output_type": "execute_result"
    }
   ],
   "source": [
    "sgd_reg.intercept_,sgd_reg.coef_"
   ]
  },
  {
   "cell_type": "code",
   "execution_count": 127,
   "id": "2cd70b25",
   "metadata": {},
   "outputs": [
    {
     "data": {
      "text/plain": [
       "5"
      ]
     },
     "execution_count": 127,
     "metadata": {},
     "output_type": "execute_result"
    }
   ],
   "source": [
    "sgd_reg.n_iter_no_change"
   ]
  },
  {
   "cell_type": "code",
   "execution_count": 132,
   "id": "1f518fc0",
   "metadata": {},
   "outputs": [
    {
     "data": {
      "text/plain": [
       "126"
      ]
     },
     "execution_count": 132,
     "metadata": {},
     "output_type": "execute_result"
    }
   ],
   "source": [
    "sgd_reg.n_iter_\n",
    "#at 126th iteration it got value below tolerence."
   ]
  },
  {
   "cell_type": "markdown",
   "id": "d76152cb",
   "metadata": {},
   "source": [
    "# Polynomial regression"
   ]
  },
  {
   "cell_type": "code",
   "execution_count": 138,
   "id": "594a1728",
   "metadata": {},
   "outputs": [
    {
     "data": {
      "image/png": "[encoded data removed]",
      "text/plain": [
       "<Figure size 640x480 with 1 Axes>"
      ]
     },
     "metadata": {},
     "output_type": "display_data"
    }
   ],
   "source": [
    "np.random.seed(42)\n",
    "m=100\n",
    "x=6*np.random.rand(m,1)-3\n",
    "y=0.5*x**2+x+2+np.random.randn(m,1)\n",
    "plt.scatter(x,y)\n",
    "plt.show()"
   ]
  },
  {
   "cell_type": "code",
   "execution_count": 141,
   "id": "dd8666c1",
   "metadata": {},
   "outputs": [
    {
     "data": {
      "text/html": [
       "<style>#sk-container-id-6 {color: black;background-color: white;}#sk-container-id-6 pre{padding: 0;}#sk-container-id-6 div.sk-toggleable {background-color: white;}#sk-container-id-6 label.sk-toggleable__label {cursor: pointer;display: block;width: 100%;margin-bottom: 0;padding: 0.3em;box-sizing: border-box;text-align: center;}#sk-container-id-6 label.sk-toggleable__label-arrow:before {content: \"▸\";float: left;margin-right: 0.25em;color: #696969;}#sk-container-id-6 label.sk-toggleable__label-arrow:hover:before {color: black;}#sk-container-id-6 div.sk-estimator:hover label.sk-toggleable__label-arrow:before {color: black;}#sk-container-id-6 div.sk-toggleable__content {max-height: 0;max-width: 0;overflow: hidden;text-align: left;background-color: #f0f8ff;}#sk-container-id-6 div.sk-toggleable__content pre {margin: 0.2em;color: black;border-radius: 0.25em;background-color: #f0f8ff;}#sk-container-id-6 input.sk-toggleable__control:checked~div.sk-toggleable__content {max-height: 200px;max-width: 100%;overflow: auto;}#sk-container-id-6 input.sk-toggleable__control:checked~label.sk-toggleable__label-arrow:before {content: \"▾\";}#sk-container-id-6 div.sk-estimator input.sk-toggleable__control:checked~label.sk-toggleable__label {background-color: #d4ebff;}#sk-container-id-6 div.sk-label input.sk-toggleable__control:checked~label.sk-toggleable__label {background-color: #d4ebff;}#sk-container-id-6 input.sk-hidden--visually {border: 0;clip: rect(1px 1px 1px 1px);clip: rect(1px, 1px, 1px, 1px);height: 1px;margin: -1px;overflow: hidden;padding: 0;position: absolute;width: 1px;}#sk-container-id-6 div.sk-estimator {font-family: monospace;background-color: #f0f8ff;border: 1px dotted black;border-radius: 0.25em;box-sizing: border-box;margin-bottom: 0.5em;}#sk-container-id-6 div.sk-estimator:hover {background-color: #d4ebff;}#sk-container-id-6 div.sk-parallel-item::after {content: \"\";width: 100%;border-bottom: 1px solid gray;flex-grow: 1;}#sk-container-id-6 div.sk-label:hover label.sk-toggleable__label {background-color: #d4ebff;}#sk-container-id-6 div.sk-serial::before {content: \"\";position: absolute;border-left: 1px solid gray;box-sizing: border-box;top: 0;bottom: 0;left: 50%;z-index: 0;}#sk-container-id-6 div.sk-serial {display: flex;flex-direction: column;align-items: center;background-color: white;padding-right: 0.2em;padding-left: 0.2em;position: relative;}#sk-container-id-6 div.sk-item {position: relative;z-index: 1;}#sk-container-id-6 div.sk-parallel {display: flex;align-items: stretch;justify-content: center;background-color: white;position: relative;}#sk-container-id-6 div.sk-item::before, #sk-container-id-6 div.sk-parallel-item::before {content: \"\";position: absolute;border-left: 1px solid gray;box-sizing: border-box;top: 0;bottom: 0;left: 50%;z-index: -1;}#sk-container-id-6 div.sk-parallel-item {display: flex;flex-direction: column;z-index: 1;position: relative;background-color: white;}#sk-container-id-6 div.sk-parallel-item:first-child::after {align-self: flex-end;width: 50%;}#sk-container-id-6 div.sk-parallel-item:last-child::after {align-self: flex-start;width: 50%;}#sk-container-id-6 div.sk-parallel-item:only-child::after {width: 0;}#sk-container-id-6 div.sk-dashed-wrapped {border: 1px dashed gray;margin: 0 0.4em 0.5em 0.4em;box-sizing: border-box;padding-bottom: 0.4em;background-color: white;}#sk-container-id-6 div.sk-label label {font-family: monospace;font-weight: bold;display: inline-block;line-height: 1.2em;}#sk-container-id-6 div.sk-label-container {text-align: center;}#sk-container-id-6 div.sk-container {/* jupyter's `normalize.less` sets `[hidden] { display: none; }` but bootstrap.min.css set `[hidden] { display: none !important; }` so we also need the `!important` here to be able to override the default hidden behavior on the sphinx rendered scikit-learn.org. See: https://github.com/scikit-learn/scikit-learn/issues/21755 */display: inline-block !important;position: relative;}#sk-container-id-6 div.sk-text-repr-fallback {display: none;}</style><div id=\"sk-container-id-6\" class=\"sk-top-container\"><div class=\"sk-text-repr-fallback\"><pre>PolynomialFeatures(include_bias=False)</pre><b>In a Jupyter environment, please rerun this cell to show the HTML representation or trust the notebook. <br />On GitHub, the HTML representation is unable to render, please try loading this page with nbviewer.org.</b></div><div class=\"sk-container\" hidden><div class=\"sk-item\"><div class=\"sk-estimator sk-toggleable\"><input class=\"sk-toggleable__control sk-hidden--visually\" id=\"sk-estimator-id-6\" type=\"checkbox\" checked><label for=\"sk-estimator-id-6\" class=\"sk-toggleable__label sk-toggleable__label-arrow\">PolynomialFeatures</label><div class=\"sk-toggleable__content\"><pre>PolynomialFeatures(include_bias=False)</pre></div></div></div></div></div>"
      ],
      "text/plain": [
       "PolynomialFeatures(include_bias=False)"
      ]
     },
     "execution_count": 141,
     "metadata": {},
     "output_type": "execute_result"
    }
   ],
   "source": [
    "poly_features=PolynomialFeatures(degree=2,include_bias=False)\n",
    "poly_features"
   ]
  },
  {
   "cell_type": "code",
   "execution_count": 144,
   "id": "ca93074b",
   "metadata": {},
   "outputs": [],
   "source": [
    "x_poly=poly_features.fit_transform(x)"
   ]
  },
  {
   "cell_type": "code",
   "execution_count": 147,
   "id": "347a47f6",
   "metadata": {},
   "outputs": [],
   "source": [
    "lin_reg=LinearRegression()"
   ]
  },
  {
   "cell_type": "code",
   "execution_count": 148,
   "id": "1e98d90a",
   "metadata": {},
   "outputs": [
    {
     "data": {
      "text/html": [
       "<style>#sk-container-id-7 {color: black;background-color: white;}#sk-container-id-7 pre{padding: 0;}#sk-container-id-7 div.sk-toggleable {background-color: white;}#sk-container-id-7 label.sk-toggleable__label {cursor: pointer;display: block;width: 100%;margin-bottom: 0;padding: 0.3em;box-sizing: border-box;text-align: center;}#sk-container-id-7 label.sk-toggleable__label-arrow:before {content: \"▸\";float: left;margin-right: 0.25em;color: #696969;}#sk-container-id-7 label.sk-toggleable__label-arrow:hover:before {color: black;}#sk-container-id-7 div.sk-estimator:hover label.sk-toggleable__label-arrow:before {color: black;}#sk-container-id-7 div.sk-toggleable__content {max-height: 0;max-width: 0;overflow: hidden;text-align: left;background-color: #f0f8ff;}#sk-container-id-7 div.sk-toggleable__content pre {margin: 0.2em;color: black;border-radius: 0.25em;background-color: #f0f8ff;}#sk-container-id-7 input.sk-toggleable__control:checked~div.sk-toggleable__content {max-height: 200px;max-width: 100%;overflow: auto;}#sk-container-id-7 input.sk-toggleable__control:checked~label.sk-toggleable__label-arrow:before {content: \"▾\";}#sk-container-id-7 div.sk-estimator input.sk-toggleable__control:checked~label.sk-toggleable__label {background-color: #d4ebff;}#sk-container-id-7 div.sk-label input.sk-toggleable__control:checked~label.sk-toggleable__label {background-color: #d4ebff;}#sk-container-id-7 input.sk-hidden--visually {border: 0;clip: rect(1px 1px 1px 1px);clip: rect(1px, 1px, 1px, 1px);height: 1px;margin: -1px;overflow: hidden;padding: 0;position: absolute;width: 1px;}#sk-container-id-7 div.sk-estimator {font-family: monospace;background-color: #f0f8ff;border: 1px dotted black;border-radius: 0.25em;box-sizing: border-box;margin-bottom: 0.5em;}#sk-container-id-7 div.sk-estimator:hover {background-color: #d4ebff;}#sk-container-id-7 div.sk-parallel-item::after {content: \"\";width: 100%;border-bottom: 1px solid gray;flex-grow: 1;}#sk-container-id-7 div.sk-label:hover label.sk-toggleable__label {background-color: #d4ebff;}#sk-container-id-7 div.sk-serial::before {content: \"\";position: absolute;border-left: 1px solid gray;box-sizing: border-box;top: 0;bottom: 0;left: 50%;z-index: 0;}#sk-container-id-7 div.sk-serial {display: flex;flex-direction: column;align-items: center;background-color: white;padding-right: 0.2em;padding-left: 0.2em;position: relative;}#sk-container-id-7 div.sk-item {position: relative;z-index: 1;}#sk-container-id-7 div.sk-parallel {display: flex;align-items: stretch;justify-content: center;background-color: white;position: relative;}#sk-container-id-7 div.sk-item::before, #sk-container-id-7 div.sk-parallel-item::before {content: \"\";position: absolute;border-left: 1px solid gray;box-sizing: border-box;top: 0;bottom: 0;left: 50%;z-index: -1;}#sk-container-id-7 div.sk-parallel-item {display: flex;flex-direction: column;z-index: 1;position: relative;background-color: white;}#sk-container-id-7 div.sk-parallel-item:first-child::after {align-self: flex-end;width: 50%;}#sk-container-id-7 div.sk-parallel-item:last-child::after {align-self: flex-start;width: 50%;}#sk-container-id-7 div.sk-parallel-item:only-child::after {width: 0;}#sk-container-id-7 div.sk-dashed-wrapped {border: 1px dashed gray;margin: 0 0.4em 0.5em 0.4em;box-sizing: border-box;padding-bottom: 0.4em;background-color: white;}#sk-container-id-7 div.sk-label label {font-family: monospace;font-weight: bold;display: inline-block;line-height: 1.2em;}#sk-container-id-7 div.sk-label-container {text-align: center;}#sk-container-id-7 div.sk-container {/* jupyter's `normalize.less` sets `[hidden] { display: none; }` but bootstrap.min.css set `[hidden] { display: none !important; }` so we also need the `!important` here to be able to override the default hidden behavior on the sphinx rendered scikit-learn.org. See: https://github.com/scikit-learn/scikit-learn/issues/21755 */display: inline-block !important;position: relative;}#sk-container-id-7 div.sk-text-repr-fallback {display: none;}</style><div id=\"sk-container-id-7\" class=\"sk-top-container\"><div class=\"sk-text-repr-fallback\"><pre>LinearRegression()</pre><b>In a Jupyter environment, please rerun this cell to show the HTML representation or trust the notebook. <br />On GitHub, the HTML representation is unable to render, please try loading this page with nbviewer.org.</b></div><div class=\"sk-container\" hidden><div class=\"sk-item\"><div class=\"sk-estimator sk-toggleable\"><input class=\"sk-toggleable__control sk-hidden--visually\" id=\"sk-estimator-id-7\" type=\"checkbox\" checked><label for=\"sk-estimator-id-7\" class=\"sk-toggleable__label sk-toggleable__label-arrow\">LinearRegression</label><div class=\"sk-toggleable__content\"><pre>LinearRegression()</pre></div></div></div></div></div>"
      ],
      "text/plain": [
       "LinearRegression()"
      ]
     },
     "execution_count": 148,
     "metadata": {},
     "output_type": "execute_result"
    }
   ],
   "source": [
    "lin_reg.fit(x_poly,y)"
   ]
  },
  {
   "cell_type": "code",
   "execution_count": 149,
   "id": "e9ebbfd0",
   "metadata": {},
   "outputs": [
    {
     "data": {
      "text/plain": [
       "(array([1.78134581]), array([[0.93366893, 0.56456263]]))"
      ]
     },
     "execution_count": 149,
     "metadata": {},
     "output_type": "execute_result"
    }
   ],
   "source": [
    "lin_reg.intercept_,lin_reg.coef_"
   ]
  },
  {
   "cell_type": "code",
   "execution_count": 150,
   "id": "2bfe6269",
   "metadata": {},
   "outputs": [
    {
     "data": {
      "text/plain": [
       "2"
      ]
     },
     "execution_count": 150,
     "metadata": {},
     "output_type": "execute_result"
    }
   ],
   "source": [
    "lin_reg.n_features_in_"
   ]
  },
  {
   "cell_type": "markdown",
   "id": "df634adf",
   "metadata": {},
   "source": [
    "# Learning curves"
   ]
  },
  {
   "cell_type": "code",
   "execution_count": null,
   "id": "79f4f02c",
   "metadata": {},
   "outputs": [],
   "source": [
    "#Learning curves are plots of model's training error and validation error as a function of the training iteration:just evaluate\n",
    "#the model at regular intervals during the training on both the training and validation set and plot the results."
   ]
  },
  {
   "cell_type": "code",
   "execution_count": 153,
   "id": "a1379f02",
   "metadata": {},
   "outputs": [],
   "source": [
    "train_sizes,train_scores,valid_scores=learning_curve(LinearRegression(),x,y,train_sizes=np.linspace(0.01,1.0,40),cv=5,scoring='neg_root_mean_squared_error')"
   ]
  },
  {
   "cell_type": "code",
   "execution_count": 160,
   "id": "af97dfef",
   "metadata": {},
   "outputs": [],
   "source": [
    "train_errors=-train_scores.mean(axis=1)\n",
    "valid_errors=-valid_scores.mean(axis=1)"
   ]
  },
  {
   "cell_type": "code",
   "execution_count": 161,
   "id": "62121ec4",
   "metadata": {},
   "outputs": [
    {
     "data": {
      "text/plain": [
       "((40, 5), (40, 5), (40,), (40,))"
      ]
     },
     "execution_count": 161,
     "metadata": {},
     "output_type": "execute_result"
    }
   ],
   "source": [
    "train_scores.shape,valid_scores.shape,train_errors.shape,valid_errors.shape"
   ]
  },
  {
   "cell_type": "code",
   "execution_count": 167,
   "id": "bf6f5986",
   "metadata": {},
   "outputs": [
    {
     "data": {
      "image/png": "[encoded data removed]",
      "text/plain": [
       "<Figure size 640x480 with 1 Axes>"
      ]
     },
     "metadata": {},
     "output_type": "display_data"
    }
   ],
   "source": [
    "plt.plot(train_sizes,train_errors,'r-+',linewidth=2,label='train')\n",
    "plt.plot(train_sizes,valid_errors,'b-',linewidth=3,label='valid')\n",
    "plt.show()\n"
   ]
  },
  {
   "cell_type": "code",
   "execution_count": 169,
   "id": "9ccf376b",
   "metadata": {},
   "outputs": [],
   "source": [
    "polynomial_regression=make_pipeline(PolynomialFeatures(degree=10,include_bias=False),LinearRegression())"
   ]
  },
  {
   "cell_type": "code",
   "execution_count": 171,
   "id": "ce876bb5",
   "metadata": {},
   "outputs": [],
   "source": [
    "train_sizes,train_scores,valid_scores=learning_curve(polynomial_regression,x,y,train_sizes=np.linspace(0.01,1.0,40),cv=5,scoring='neg_root_mean_squared_error')"
   ]
  },
  {
   "cell_type": "code",
   "execution_count": 176,
   "id": "c12e6490",
   "metadata": {},
   "outputs": [
    {
     "data": {
      "image/png": "[encoded data removed]",
      "text/plain": [
       "<Figure size 640x480 with 1 Axes>"
      ]
     },
     "metadata": {},
     "output_type": "display_data"
    }
   ],
   "source": [
    "train_errors=-train_scores.mean(axis=1)\n",
    "valid_errors=-valid_scores.mean(axis=1)\n",
    "plt.plot(train_sizes,train_errors,'r-+')\n",
    "plt.plot(train_sizes,valid_errors,'b-')\n",
    "plt.ylim(0,2.5)\n",
    "plt.show()"
   ]
  },
  {
   "cell_type": "code",
   "execution_count": 177,
   "id": "bcbef05e",
   "metadata": {},
   "outputs": [],
   "source": [
    "#Here training error is low but validation error not reduced, this is case of overfitting as we use more degree(=10)"
   ]
  },
  {
   "cell_type": "code",
   "execution_count": null,
   "id": "f6010173",
   "metadata": {},
   "outputs": [],
   "source": []
  }
 ],
 "metadata": {
  "kernelspec": {
   "display_name": "Python 3 (ipykernel)",
   "language": "python",
   "name": "python3"
  },
  "language_info": {
   "codemirror_mode": {
    "name": "ipython",
    "version": 3
   },
   "file_extension": ".py",
   "mimetype": "text/x-python",
   "name": "python",
   "nbconvert_exporter": "python",
   "pygments_lexer": "ipython3",
   "version": "3.9.7"
  }
 },
 "nbformat": 4,
 "nbformat_minor": 5
}
